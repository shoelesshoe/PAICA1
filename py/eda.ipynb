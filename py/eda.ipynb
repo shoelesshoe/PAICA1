{
 "cells": [
  {
   "cell_type": "code",
   "execution_count": 1,
   "metadata": {},
   "outputs": [],
   "source": [
    "import os\n",
    "os.chdir(r'C:\\Users\\p2308924\\Practical AI (PAI)\\Github CA\\PAICA1\\Datasets')\n",
    "\n",
    "import pandas as pd"
   ]
  },
  {
   "cell_type": "markdown",
   "metadata": {},
   "source": [
    "# Customer"
   ]
  },
  {
   "cell_type": "code",
   "execution_count": 2,
   "metadata": {},
   "outputs": [
    {
     "data": {
      "text/html": [
       "<div>\n",
       "<style scoped>\n",
       "    .dataframe tbody tr th:only-of-type {\n",
       "        vertical-align: middle;\n",
       "    }\n",
       "\n",
       "    .dataframe tbody tr th {\n",
       "        vertical-align: top;\n",
       "    }\n",
       "\n",
       "    .dataframe thead th {\n",
       "        text-align: right;\n",
       "    }\n",
       "</style>\n",
       "<table border=\"1\" class=\"dataframe\">\n",
       "  <thead>\n",
       "    <tr style=\"text-align: right;\">\n",
       "      <th></th>\n",
       "      <th>country_code</th>\n",
       "      <th>customer_id</th>\n",
       "      <th>mobile_verified</th>\n",
       "      <th>num_orders_last_50days</th>\n",
       "      <th>num_cancelled_orders_last_50days</th>\n",
       "      <th>num_refund_orders_last_50days</th>\n",
       "      <th>total_payment_last_50days</th>\n",
       "      <th>num_associated_customers</th>\n",
       "      <th>first_order_datetime</th>\n",
       "    </tr>\n",
       "  </thead>\n",
       "  <tbody>\n",
       "    <tr>\n",
       "      <th>0</th>\n",
       "      <td>PH</td>\n",
       "      <td>phjr7fpu</td>\n",
       "      <td>True</td>\n",
       "      <td>0</td>\n",
       "      <td>0</td>\n",
       "      <td>0</td>\n",
       "      <td>0.000000</td>\n",
       "      <td>1</td>\n",
       "      <td>2023-02-06 14:31:37</td>\n",
       "    </tr>\n",
       "    <tr>\n",
       "      <th>1</th>\n",
       "      <td>PH</td>\n",
       "      <td>phawdv1w</td>\n",
       "      <td>True</td>\n",
       "      <td>0</td>\n",
       "      <td>0</td>\n",
       "      <td>0</td>\n",
       "      <td>1.082516</td>\n",
       "      <td>1</td>\n",
       "      <td>2023-02-07 10:03:22</td>\n",
       "    </tr>\n",
       "    <tr>\n",
       "      <th>2</th>\n",
       "      <td>PH</td>\n",
       "      <td>ph9ocrr7</td>\n",
       "      <td>True</td>\n",
       "      <td>0</td>\n",
       "      <td>0</td>\n",
       "      <td>0</td>\n",
       "      <td>0.050195</td>\n",
       "      <td>2</td>\n",
       "      <td>2022-03-08 06:16:09</td>\n",
       "    </tr>\n",
       "    <tr>\n",
       "      <th>3</th>\n",
       "      <td>PH</td>\n",
       "      <td>phf8rsec</td>\n",
       "      <td>True</td>\n",
       "      <td>0</td>\n",
       "      <td>0</td>\n",
       "      <td>0</td>\n",
       "      <td>0.000000</td>\n",
       "      <td>3</td>\n",
       "      <td>2021-08-07 13:54:45</td>\n",
       "    </tr>\n",
       "    <tr>\n",
       "      <th>4</th>\n",
       "      <td>PH</td>\n",
       "      <td>ph74rzxh</td>\n",
       "      <td>True</td>\n",
       "      <td>0</td>\n",
       "      <td>0</td>\n",
       "      <td>0</td>\n",
       "      <td>0.000000</td>\n",
       "      <td>1</td>\n",
       "      <td>2022-01-28 12:57:22</td>\n",
       "    </tr>\n",
       "  </tbody>\n",
       "</table>\n",
       "</div>"
      ],
      "text/plain": [
       "  country_code customer_id  mobile_verified  num_orders_last_50days  \\\n",
       "0           PH    phjr7fpu             True                       0   \n",
       "1           PH    phawdv1w             True                       0   \n",
       "2           PH    ph9ocrr7             True                       0   \n",
       "3           PH    phf8rsec             True                       0   \n",
       "4           PH    ph74rzxh             True                       0   \n",
       "\n",
       "   num_cancelled_orders_last_50days  num_refund_orders_last_50days  \\\n",
       "0                                 0                              0   \n",
       "1                                 0                              0   \n",
       "2                                 0                              0   \n",
       "3                                 0                              0   \n",
       "4                                 0                              0   \n",
       "\n",
       "   total_payment_last_50days  num_associated_customers first_order_datetime  \n",
       "0                   0.000000                         1  2023-02-06 14:31:37  \n",
       "1                   1.082516                         1  2023-02-07 10:03:22  \n",
       "2                   0.050195                         2  2022-03-08 06:16:09  \n",
       "3                   0.000000                         3  2021-08-07 13:54:45  \n",
       "4                   0.000000                         1  2022-01-28 12:57:22  "
      ]
     },
     "execution_count": 2,
     "metadata": {},
     "output_type": "execute_result"
    }
   ],
   "source": [
    "customer = pd.read_csv(\"training-data-customer-features_v1.0.csv\")\n",
    "customer.head()"
   ]
  },
  {
   "cell_type": "code",
   "execution_count": 3,
   "metadata": {},
   "outputs": [
    {
     "data": {
      "text/plain": [
       "(2195916, 9)"
      ]
     },
     "execution_count": 3,
     "metadata": {},
     "output_type": "execute_result"
    }
   ],
   "source": [
    "customer.shape"
   ]
  },
  {
   "cell_type": "code",
   "execution_count": 4,
   "metadata": {},
   "outputs": [
    {
     "data": {
      "text/plain": [
       "country_code                           0\n",
       "customer_id                            0\n",
       "mobile_verified                        0\n",
       "num_orders_last_50days                 0\n",
       "num_cancelled_orders_last_50days       0\n",
       "num_refund_orders_last_50days          0\n",
       "total_payment_last_50days              0\n",
       "num_associated_customers               0\n",
       "first_order_datetime                1240\n",
       "dtype: int64"
      ]
     },
     "execution_count": 4,
     "metadata": {},
     "output_type": "execute_result"
    }
   ],
   "source": [
    "customer.isnull().sum()"
   ]
  },
  {
   "cell_type": "markdown",
   "metadata": {},
   "source": [
    "# Order"
   ]
  },
  {
   "cell_type": "code",
   "execution_count": 8,
   "metadata": {},
   "outputs": [
    {
     "data": {
      "text/html": [
       "<div>\n",
       "<style scoped>\n",
       "    .dataframe tbody tr th:only-of-type {\n",
       "        vertical-align: middle;\n",
       "    }\n",
       "\n",
       "    .dataframe tbody tr th {\n",
       "        vertical-align: top;\n",
       "    }\n",
       "\n",
       "    .dataframe thead th {\n",
       "        text-align: right;\n",
       "    }\n",
       "</style>\n",
       "<table border=\"1\" class=\"dataframe\">\n",
       "  <thead>\n",
       "    <tr style=\"text-align: right;\">\n",
       "      <th></th>\n",
       "      <th>country_code</th>\n",
       "      <th>order_id</th>\n",
       "      <th>collect_type</th>\n",
       "      <th>payment_method</th>\n",
       "      <th>order_value</th>\n",
       "      <th>num_items_ordered</th>\n",
       "      <th>refund_value</th>\n",
       "      <th>order_date</th>\n",
       "    </tr>\n",
       "  </thead>\n",
       "  <tbody>\n",
       "    <tr>\n",
       "      <th>0</th>\n",
       "      <td>PH</td>\n",
       "      <td>cktw-hdnh</td>\n",
       "      <td>delivery</td>\n",
       "      <td>credit card</td>\n",
       "      <td>18.379008</td>\n",
       "      <td>2.0</td>\n",
       "      <td>6.07</td>\n",
       "      <td>2023/04/09</td>\n",
       "    </tr>\n",
       "    <tr>\n",
       "      <th>1</th>\n",
       "      <td>PH</td>\n",
       "      <td>s9mi-zzap</td>\n",
       "      <td>delivery</td>\n",
       "      <td>antfinancial gcash</td>\n",
       "      <td>5.387819</td>\n",
       "      <td>4.0</td>\n",
       "      <td>0.00</td>\n",
       "      <td>2023/04/09</td>\n",
       "    </tr>\n",
       "    <tr>\n",
       "      <th>2</th>\n",
       "      <td>PH</td>\n",
       "      <td>vgow-r2i6</td>\n",
       "      <td>delivery</td>\n",
       "      <td>payment on delivery</td>\n",
       "      <td>8.526517</td>\n",
       "      <td>4.0</td>\n",
       "      <td>0.00</td>\n",
       "      <td>2023/04/09</td>\n",
       "    </tr>\n",
       "    <tr>\n",
       "      <th>3</th>\n",
       "      <td>PH</td>\n",
       "      <td>u7pg-7rn7</td>\n",
       "      <td>delivery</td>\n",
       "      <td>antfinancial gcash</td>\n",
       "      <td>7.452310</td>\n",
       "      <td>6.0</td>\n",
       "      <td>0.00</td>\n",
       "      <td>2023/04/09</td>\n",
       "    </tr>\n",
       "    <tr>\n",
       "      <th>4</th>\n",
       "      <td>PH</td>\n",
       "      <td>q6dn-z0p9</td>\n",
       "      <td>delivery</td>\n",
       "      <td>credit card</td>\n",
       "      <td>9.030052</td>\n",
       "      <td>4.0</td>\n",
       "      <td>0.62</td>\n",
       "      <td>2023/04/09</td>\n",
       "    </tr>\n",
       "  </tbody>\n",
       "</table>\n",
       "</div>"
      ],
      "text/plain": [
       "  country_code   order_id collect_type       payment_method  order_value  \\\n",
       "0           PH  cktw-hdnh     delivery          credit card    18.379008   \n",
       "1           PH  s9mi-zzap     delivery   antfinancial gcash     5.387819   \n",
       "2           PH  vgow-r2i6     delivery  payment on delivery     8.526517   \n",
       "3           PH  u7pg-7rn7     delivery   antfinancial gcash     7.452310   \n",
       "4           PH  q6dn-z0p9     delivery          credit card     9.030052   \n",
       "\n",
       "   num_items_ordered  refund_value  order_date  \n",
       "0                2.0          6.07  2023/04/09  \n",
       "1                4.0          0.00  2023/04/09  \n",
       "2                4.0          0.00  2023/04/09  \n",
       "3                6.0          0.00  2023/04/09  \n",
       "4                4.0          0.62  2023/04/09  "
      ]
     },
     "execution_count": 8,
     "metadata": {},
     "output_type": "execute_result"
    }
   ],
   "source": [
    "order = pd.read_csv(\"training-data-order-features_v1.0.csv\")\n",
    "order.head()"
   ]
  },
  {
   "cell_type": "code",
   "execution_count": 10,
   "metadata": {},
   "outputs": [
    {
     "data": {
      "text/plain": [
       "(2270509, 8)"
      ]
     },
     "execution_count": 10,
     "metadata": {},
     "output_type": "execute_result"
    }
   ],
   "source": [
    "order.shape"
   ]
  },
  {
   "cell_type": "code",
   "execution_count": 6,
   "metadata": {},
   "outputs": [
    {
     "data": {
      "text/plain": [
       "country_code                           0\n",
       "customer_id                            0\n",
       "mobile_verified                        0\n",
       "num_orders_last_50days                 0\n",
       "num_cancelled_orders_last_50days       0\n",
       "num_refund_orders_last_50days          0\n",
       "total_payment_last_50days              0\n",
       "num_associated_customers               0\n",
       "first_order_datetime                1240\n",
       "dtype: int64"
      ]
     },
     "execution_count": 6,
     "metadata": {},
     "output_type": "execute_result"
    }
   ],
   "source": [
    "order.isnull().sum()"
   ]
  },
  {
   "cell_type": "markdown",
   "metadata": {},
   "source": [
    "# Labels"
   ]
  },
  {
   "cell_type": "code",
   "execution_count": 11,
   "metadata": {},
   "outputs": [
    {
     "data": {
      "text/html": [
       "<div>\n",
       "<style scoped>\n",
       "    .dataframe tbody tr th:only-of-type {\n",
       "        vertical-align: middle;\n",
       "    }\n",
       "\n",
       "    .dataframe tbody tr th {\n",
       "        vertical-align: top;\n",
       "    }\n",
       "\n",
       "    .dataframe thead th {\n",
       "        text-align: right;\n",
       "    }\n",
       "</style>\n",
       "<table border=\"1\" class=\"dataframe\">\n",
       "  <thead>\n",
       "    <tr style=\"text-align: right;\">\n",
       "      <th></th>\n",
       "      <th>country_code</th>\n",
       "      <th>order_id</th>\n",
       "      <th>customer_id</th>\n",
       "      <th>is_fraud</th>\n",
       "    </tr>\n",
       "  </thead>\n",
       "  <tbody>\n",
       "    <tr>\n",
       "      <th>0</th>\n",
       "      <td>BD</td>\n",
       "      <td>w2lx-myz3</td>\n",
       "      <td>bdpr8uva</td>\n",
       "      <td>0</td>\n",
       "    </tr>\n",
       "    <tr>\n",
       "      <th>1</th>\n",
       "      <td>BD</td>\n",
       "      <td>ta7z-r91q</td>\n",
       "      <td>bd59rlzo</td>\n",
       "      <td>0</td>\n",
       "    </tr>\n",
       "    <tr>\n",
       "      <th>2</th>\n",
       "      <td>BD</td>\n",
       "      <td>t5af-wgb2</td>\n",
       "      <td>bd6zhjvq</td>\n",
       "      <td>0</td>\n",
       "    </tr>\n",
       "    <tr>\n",
       "      <th>3</th>\n",
       "      <td>BD</td>\n",
       "      <td>sibu-9lm4</td>\n",
       "      <td>bd4fv4rb</td>\n",
       "      <td>0</td>\n",
       "    </tr>\n",
       "    <tr>\n",
       "      <th>4</th>\n",
       "      <td>BD</td>\n",
       "      <td>we61-omtr</td>\n",
       "      <td>bdzeepq7</td>\n",
       "      <td>0</td>\n",
       "    </tr>\n",
       "  </tbody>\n",
       "</table>\n",
       "</div>"
      ],
      "text/plain": [
       "  country_code   order_id customer_id  is_fraud\n",
       "0           BD  w2lx-myz3    bdpr8uva         0\n",
       "1           BD  ta7z-r91q    bd59rlzo         0\n",
       "2           BD  t5af-wgb2    bd6zhjvq         0\n",
       "3           BD  sibu-9lm4    bd4fv4rb         0\n",
       "4           BD  we61-omtr    bdzeepq7         0"
      ]
     },
     "execution_count": 11,
     "metadata": {},
     "output_type": "execute_result"
    }
   ],
   "source": [
    "labels = pd.read_csv(\"training-labels_v1.0.csv\")\n",
    "labels.head()"
   ]
  },
  {
   "cell_type": "code",
   "execution_count": 12,
   "metadata": {},
   "outputs": [
    {
     "data": {
      "text/plain": [
       "(2414179, 4)"
      ]
     },
     "execution_count": 12,
     "metadata": {},
     "output_type": "execute_result"
    }
   ],
   "source": [
    "labels.shape"
   ]
  },
  {
   "cell_type": "code",
   "execution_count": 13,
   "metadata": {},
   "outputs": [
    {
     "data": {
      "text/plain": [
       "country_code    0\n",
       "order_id        0\n",
       "customer_id     0\n",
       "is_fraud        0\n",
       "dtype: int64"
      ]
     },
     "execution_count": 13,
     "metadata": {},
     "output_type": "execute_result"
    }
   ],
   "source": [
    "labels.isnull().sum()"
   ]
  }
 ],
 "metadata": {
  "kernelspec": {
   "display_name": "Python 3.9.12 ('base')",
   "language": "python",
   "name": "python3"
  },
  "language_info": {
   "codemirror_mode": {
    "name": "ipython",
    "version": 3
   },
   "file_extension": ".py",
   "mimetype": "text/x-python",
   "name": "python",
   "nbconvert_exporter": "python",
   "pygments_lexer": "ipython3",
   "version": "3.9.12"
  },
  "orig_nbformat": 4,
  "vscode": {
   "interpreter": {
    "hash": "ad2bdc8ecc057115af97d19610ffacc2b4e99fae6737bb82f5d7fb13d2f2c186"
   }
  }
 },
 "nbformat": 4,
 "nbformat_minor": 2
}
