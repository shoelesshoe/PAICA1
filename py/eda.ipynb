{
 "cells": [
  {
   "cell_type": "markdown",
   "metadata": {},
   "source": [
    "# Load Data From SQL"
   ]
  },
  {
   "cell_type": "code",
   "execution_count": 1,
   "metadata": {},
   "outputs": [
    {
     "data": {
      "text/plain": [
       "['../config.ini']"
      ]
     },
     "execution_count": 1,
     "metadata": {},
     "output_type": "execute_result"
    }
   ],
   "source": [
    "import pandas as pd\n",
    "import configparser\n",
    "import sqlalchemy\n",
    "from sqlalchemy import create_engine\n",
    "\n",
    "config = configparser.ConfigParser()\n",
    "config.read(r'../config.ini')"
   ]
  },
  {
   "cell_type": "code",
   "execution_count": null,
   "metadata": {},
   "outputs": [
    {
     "name": "stdout",
     "output_type": "stream",
     "text": [
      "Connection attempt to server \"T2131-06\\SQLEXPRESS\" database \"Practical_AI_amongus\"...\n",
      "SQL server failed to connect\n",
      "Connection attempt to server \"NOTEBOOK\\SQLEXPRESS\" database \"Practical_AI_CA1\"...\n",
      "SQL server successfully connected\n"
     ]
    }
   ],
   "source": [
    "serverNames = config.get('Database', 'ServerName').split(',')\n",
    "databaseNames = config.get('Database', 'DatabaseName').split(',')\n",
    "\n",
    "connected = False\n",
    "\n",
    "for i in range(max(len(serverNames), len(databaseNames))):\n",
    "    try:\n",
    "        print(f'Connection attempt to server \"{serverNames[i].strip()}\" database \"{databaseNames[i].strip()}\"...')\n",
    "        engine = create_engine(f'mssql+pyodbc://{serverNames[i].strip()}/{databaseNames[i].strip()}?driver=SQL Server')\n",
    "        connection = engine.connect()\n",
    "        print('SQL server successfully connected')\n",
    "        connected = True\n",
    "        break\n",
    "    except sqlalchemy.exc.OperationalError:\n",
    "        print(f'SQL server failed to connect')\n",
    "\n",
    "if not connected:\n",
    "    raise RuntimeError(\"Could not connect to any SQL server\")"
   ]
  },
  {
   "cell_type": "code",
   "execution_count": null,
   "metadata": {},
   "outputs": [],
   "source": [
    "cursor = connection.execute('SELECT * FROM orders')\n",
    "df = pd.DataFrame(data=cursor.fetchall(), columns=cursor.keys())\n",
    "connection.close()"
   ]
  },
  {
   "cell_type": "code",
   "execution_count": null,
   "metadata": {},
   "outputs": [],
   "source": [
    "df.head()"
   ]
  },
  {
   "cell_type": "markdown",
   "metadata": {},
   "source": [
    "# Exploratory Data Analysis"
   ]
  },
  {
   "cell_type": "code",
   "execution_count": null,
   "metadata": {},
   "outputs": [],
   "source": []
  }
 ],
 "metadata": {
  "kernelspec": {
   "display_name": "Python 3",
   "language": "python",
   "name": "python3"
  },
  "language_info": {
   "codemirror_mode": {
    "name": "ipython",
    "version": 3
   },
   "file_extension": ".py",
   "mimetype": "text/x-python",
   "name": "python",
   "nbconvert_exporter": "python",
   "pygments_lexer": "ipython3",
   "version": "3.11.5"
  }
 },
 "nbformat": 4,
 "nbformat_minor": 2
}
