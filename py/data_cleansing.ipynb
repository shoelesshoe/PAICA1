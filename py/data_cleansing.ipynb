{
 "cells": [
  {
   "cell_type": "markdown",
   "metadata": {},
   "source": [
    "# 1. Import Libraries"
   ]
  },
  {
   "cell_type": "code",
   "execution_count": 1,
   "metadata": {},
   "outputs": [
    {
     "name": "stdout",
     "output_type": "stream",
     "text": [
      "Trying D:\\SP\\Year 2 Sem 2\\ST1508 Practical AI\\PAICA1\\datasets...\n",
      "Path found\n"
     ]
    }
   ],
   "source": [
    "import os\n",
    "import pandas as pd\n",
    "import configparser\n",
    "\n",
    "config = configparser.ConfigParser()\n",
    "config.read(r'../config.ini')\n",
    "\n",
    "validPath = False\n",
    "\n",
    "datasetPaths = config.get('DataCleansing', 'DatasetPath').split(',')\n",
    "for path in datasetPaths:\n",
    "    try:\n",
    "        print(f'Trying {path.strip()}...')\n",
    "        os.chdir(path.strip())\n",
    "        validPath = True\n",
    "        print('Path found')\n",
    "    except FileNotFoundError:\n",
    "        print(f'Path \"{path.strip()}\" not found')\n",
    "\n",
    "if not validPath:\n",
    "    raise RuntimeError('Could not find any valid dataset path')"
   ]
  },
  {
   "cell_type": "markdown",
   "metadata": {},
   "source": [
    "# 2. Data Cleansing (Customer)"
   ]
  },
  {
   "cell_type": "code",
   "execution_count": 2,
   "metadata": {},
   "outputs": [
    {
     "data": {
      "text/html": [
       "<div>\n",
       "<style scoped>\n",
       "    .dataframe tbody tr th:only-of-type {\n",
       "        vertical-align: middle;\n",
       "    }\n",
       "\n",
       "    .dataframe tbody tr th {\n",
       "        vertical-align: top;\n",
       "    }\n",
       "\n",
       "    .dataframe thead th {\n",
       "        text-align: right;\n",
       "    }\n",
       "</style>\n",
       "<table border=\"1\" class=\"dataframe\">\n",
       "  <thead>\n",
       "    <tr style=\"text-align: right;\">\n",
       "      <th></th>\n",
       "      <th>country_code</th>\n",
       "      <th>customer_id</th>\n",
       "      <th>mobile_verified</th>\n",
       "      <th>num_orders_last_50days</th>\n",
       "      <th>num_cancelled_orders_last_50days</th>\n",
       "      <th>num_refund_orders_last_50days</th>\n",
       "      <th>total_payment_last_50days</th>\n",
       "      <th>num_associated_customers</th>\n",
       "      <th>first_order_datetime</th>\n",
       "    </tr>\n",
       "  </thead>\n",
       "  <tbody>\n",
       "    <tr>\n",
       "      <th>0</th>\n",
       "      <td>PH</td>\n",
       "      <td>phjr7fpu</td>\n",
       "      <td>True</td>\n",
       "      <td>0</td>\n",
       "      <td>0</td>\n",
       "      <td>0</td>\n",
       "      <td>0.000000</td>\n",
       "      <td>1</td>\n",
       "      <td>2023-02-06 14:31:37</td>\n",
       "    </tr>\n",
       "    <tr>\n",
       "      <th>1</th>\n",
       "      <td>PH</td>\n",
       "      <td>phawdv1w</td>\n",
       "      <td>True</td>\n",
       "      <td>0</td>\n",
       "      <td>0</td>\n",
       "      <td>0</td>\n",
       "      <td>1.082516</td>\n",
       "      <td>1</td>\n",
       "      <td>2023-02-07 10:03:22</td>\n",
       "    </tr>\n",
       "    <tr>\n",
       "      <th>2</th>\n",
       "      <td>PH</td>\n",
       "      <td>ph9ocrr7</td>\n",
       "      <td>True</td>\n",
       "      <td>0</td>\n",
       "      <td>0</td>\n",
       "      <td>0</td>\n",
       "      <td>0.050195</td>\n",
       "      <td>2</td>\n",
       "      <td>2022-03-08 06:16:09</td>\n",
       "    </tr>\n",
       "    <tr>\n",
       "      <th>3</th>\n",
       "      <td>PH</td>\n",
       "      <td>phf8rsec</td>\n",
       "      <td>True</td>\n",
       "      <td>0</td>\n",
       "      <td>0</td>\n",
       "      <td>0</td>\n",
       "      <td>0.000000</td>\n",
       "      <td>3</td>\n",
       "      <td>2021-08-07 13:54:45</td>\n",
       "    </tr>\n",
       "    <tr>\n",
       "      <th>4</th>\n",
       "      <td>PH</td>\n",
       "      <td>ph74rzxh</td>\n",
       "      <td>True</td>\n",
       "      <td>0</td>\n",
       "      <td>0</td>\n",
       "      <td>0</td>\n",
       "      <td>0.000000</td>\n",
       "      <td>1</td>\n",
       "      <td>2022-01-28 12:57:22</td>\n",
       "    </tr>\n",
       "  </tbody>\n",
       "</table>\n",
       "</div>"
      ],
      "text/plain": [
       "  country_code customer_id  mobile_verified  num_orders_last_50days  \\\n",
       "0           PH    phjr7fpu             True                       0   \n",
       "1           PH    phawdv1w             True                       0   \n",
       "2           PH    ph9ocrr7             True                       0   \n",
       "3           PH    phf8rsec             True                       0   \n",
       "4           PH    ph74rzxh             True                       0   \n",
       "\n",
       "   num_cancelled_orders_last_50days  num_refund_orders_last_50days  \\\n",
       "0                                 0                              0   \n",
       "1                                 0                              0   \n",
       "2                                 0                              0   \n",
       "3                                 0                              0   \n",
       "4                                 0                              0   \n",
       "\n",
       "   total_payment_last_50days  num_associated_customers first_order_datetime  \n",
       "0                   0.000000                         1  2023-02-06 14:31:37  \n",
       "1                   1.082516                         1  2023-02-07 10:03:22  \n",
       "2                   0.050195                         2  2022-03-08 06:16:09  \n",
       "3                   0.000000                         3  2021-08-07 13:54:45  \n",
       "4                   0.000000                         1  2022-01-28 12:57:22  "
      ]
     },
     "execution_count": 2,
     "metadata": {},
     "output_type": "execute_result"
    }
   ],
   "source": [
    "ogCustomer = pd.read_csv(\"training-data-customer-features_v1.0.csv\")\n",
    "ogCustomer.head()"
   ]
  },
  {
   "cell_type": "code",
   "execution_count": 3,
   "metadata": {},
   "outputs": [
    {
     "data": {
      "text/plain": [
       "(2195916, 9)"
      ]
     },
     "execution_count": 3,
     "metadata": {},
     "output_type": "execute_result"
    }
   ],
   "source": [
    "ogCustomer.shape"
   ]
  },
  {
   "cell_type": "markdown",
   "metadata": {},
   "source": [
    "## A. Check for Missing Values"
   ]
  },
  {
   "cell_type": "code",
   "execution_count": 4,
   "metadata": {},
   "outputs": [
    {
     "data": {
      "text/plain": [
       "country_code                           0\n",
       "customer_id                            0\n",
       "mobile_verified                        0\n",
       "num_orders_last_50days                 0\n",
       "num_cancelled_orders_last_50days       0\n",
       "num_refund_orders_last_50days          0\n",
       "total_payment_last_50days              0\n",
       "num_associated_customers               0\n",
       "first_order_datetime                1240\n",
       "dtype: int64"
      ]
     },
     "execution_count": 4,
     "metadata": {},
     "output_type": "execute_result"
    }
   ],
   "source": [
    "ogCustomer.isnull().sum()"
   ]
  },
  {
   "cell_type": "code",
   "execution_count": 5,
   "metadata": {},
   "outputs": [
    {
     "name": "stdout",
     "output_type": "stream",
     "text": [
      "0.06% of the rows contain missing values. Since 0.06% is very insignificant, we will drop the missing values\n"
     ]
    }
   ],
   "source": [
    "percentageOfNa = round(ogCustomer.iloc[:,-1].isnull().sum() / len(ogCustomer) * 100, 2)\n",
    "print(f'{percentageOfNa}% of the rows contain missing values. Since {percentageOfNa}% is very insignificant, we will drop the missing values')"
   ]
  },
  {
   "cell_type": "code",
   "execution_count": 6,
   "metadata": {},
   "outputs": [
    {
     "data": {
      "text/plain": [
       "country_code                        0\n",
       "customer_id                         0\n",
       "mobile_verified                     0\n",
       "num_orders_last_50days              0\n",
       "num_cancelled_orders_last_50days    0\n",
       "num_refund_orders_last_50days       0\n",
       "total_payment_last_50days           0\n",
       "num_associated_customers            0\n",
       "first_order_datetime                0\n",
       "dtype: int64"
      ]
     },
     "execution_count": 6,
     "metadata": {},
     "output_type": "execute_result"
    }
   ],
   "source": [
    "dropnaCustomer = ogCustomer.dropna()\n",
    "dropnaCustomer.isnull().sum()"
   ]
  },
  {
   "cell_type": "markdown",
   "metadata": {},
   "source": [
    "## B. Check for Duplicated Rows"
   ]
  },
  {
   "cell_type": "markdown",
   "metadata": {},
   "source": [
    "Since our unique identifier for each row is a composite key comprised of `country_code` + `customer_id`, we will treat a row as a duplicate if its composite key is duplicated, even if the other columns are different"
   ]
  },
  {
   "cell_type": "code",
   "execution_count": 7,
   "metadata": {},
   "outputs": [
    {
     "name": "stdout",
     "output_type": "stream",
     "text": [
      "907902\n"
     ]
    }
   ],
   "source": [
    "print(dropnaCustomer.duplicated(subset=['country_code', 'customer_id']).sum())"
   ]
  },
  {
   "cell_type": "markdown",
   "metadata": {},
   "source": [
    "As newer data records are always and nearer to the end of the table, we will use the last record of that customer and discard all other records from the same customer"
   ]
  },
  {
   "cell_type": "code",
   "execution_count": 8,
   "metadata": {},
   "outputs": [
    {
     "name": "stdout",
     "output_type": "stream",
     "text": [
      "0\n"
     ]
    }
   ],
   "source": [
    "dropDuplicatesCustomer = dropnaCustomer.drop_duplicates(keep='last', subset=['country_code', 'customer_id'])\n",
    "print(dropDuplicatesCustomer.duplicated(subset=['country_code', 'customer_id']).sum())"
   ]
  },
  {
   "cell_type": "markdown",
   "metadata": {},
   "source": [
    "## C. Check Datatypes"
   ]
  },
  {
   "cell_type": "code",
   "execution_count": 9,
   "metadata": {},
   "outputs": [
    {
     "name": "stdout",
     "output_type": "stream",
     "text": [
      "<class 'pandas.core.frame.DataFrame'>\n",
      "Index: 1286774 entries, 0 to 2195915\n",
      "Data columns (total 9 columns):\n",
      " #   Column                            Non-Null Count    Dtype  \n",
      "---  ------                            --------------    -----  \n",
      " 0   country_code                      1286774 non-null  object \n",
      " 1   customer_id                       1286774 non-null  object \n",
      " 2   mobile_verified                   1286774 non-null  bool   \n",
      " 3   num_orders_last_50days            1286774 non-null  int64  \n",
      " 4   num_cancelled_orders_last_50days  1286774 non-null  int64  \n",
      " 5   num_refund_orders_last_50days     1286774 non-null  int64  \n",
      " 6   total_payment_last_50days         1286774 non-null  float64\n",
      " 7   num_associated_customers          1286774 non-null  int64  \n",
      " 8   first_order_datetime              1286774 non-null  object \n",
      "dtypes: bool(1), float64(1), int64(4), object(3)\n",
      "memory usage: 89.6+ MB\n"
     ]
    }
   ],
   "source": [
    "dropDuplicatesCustomer.info()"
   ]
  },
  {
   "cell_type": "markdown",
   "metadata": {},
   "source": [
    "### i. `first_order_datetime`"
   ]
  },
  {
   "cell_type": "code",
   "execution_count": 10,
   "metadata": {},
   "outputs": [
    {
     "data": {
      "text/plain": [
       "0          2023-02-06 14:31:37\n",
       "1          2023-02-07 10:03:22\n",
       "2          2022-03-08 06:16:09\n",
       "3          2021-08-07 13:54:45\n",
       "4          2022-01-28 12:57:22\n",
       "                  ...         \n",
       "2195911    2014-11-01 06:55:11\n",
       "2195912    2022-06-25 07:03:58\n",
       "2195913    2018-12-21 12:04:11\n",
       "2195914    2014-03-26 06:10:24\n",
       "2195915    2014-12-13 15:05:26\n",
       "Name: first_order_datetime, Length: 1286774, dtype: object"
      ]
     },
     "execution_count": 10,
     "metadata": {},
     "output_type": "execute_result"
    }
   ],
   "source": [
    "dropDuplicatesCustomer.iloc[:,-1]"
   ]
  },
  {
   "cell_type": "markdown",
   "metadata": {},
   "source": [
    "As we are unsure whether all of the dates are of the same format, we can check using regular expressions"
   ]
  },
  {
   "cell_type": "code",
   "execution_count": 11,
   "metadata": {},
   "outputs": [
    {
     "name": "stdout",
     "output_type": "stream",
     "text": [
      "True\n"
     ]
    }
   ],
   "source": [
    "import re\n",
    "\n",
    "pattern = r\"^\\d{4}-\\d{2}-\\d{2} \\d{2}:\\d{2}:\\d{2}$\"\n",
    "\n",
    "def checkDatetimeFormat(datetimes):\n",
    "    return all(re.match(pattern, dt) for dt in datetimes)\n",
    "\n",
    "print(checkDatetimeFormat(dropDuplicatesCustomer.iloc[:,-1].values))\n"
   ]
  },
  {
   "cell_type": "markdown",
   "metadata": {},
   "source": [
    "After we have ensured that they are all in the same format, we can convert them to `datetime` datatype"
   ]
  },
  {
   "cell_type": "code",
   "execution_count": 12,
   "metadata": {},
   "outputs": [
    {
     "name": "stderr",
     "output_type": "stream",
     "text": [
      "C:\\Users\\scrab\\AppData\\Local\\Temp\\ipykernel_3240\\4026684440.py:1: SettingWithCopyWarning: \n",
      "A value is trying to be set on a copy of a slice from a DataFrame.\n",
      "Try using .loc[row_indexer,col_indexer] = value instead\n",
      "\n",
      "See the caveats in the documentation: https://pandas.pydata.org/pandas-docs/stable/user_guide/indexing.html#returning-a-view-versus-a-copy\n",
      "  dropDuplicatesCustomer['first_order_datetime'] = pd.to_datetime(dropDuplicatesCustomer['first_order_datetime'], format='%Y-%m-%d %H:%M:%S')\n"
     ]
    }
   ],
   "source": [
    "dropDuplicatesCustomer['first_order_datetime'] = pd.to_datetime(dropDuplicatesCustomer['first_order_datetime'], format='%Y-%m-%d %H:%M:%S')"
   ]
  },
  {
   "cell_type": "code",
   "execution_count": 13,
   "metadata": {},
   "outputs": [
    {
     "data": {
      "text/plain": [
       "<DatetimeArray>\n",
       "['2023-02-06 14:31:37', '2023-02-07 10:03:22', '2022-03-08 06:16:09',\n",
       " '2021-08-07 13:54:45', '2022-01-28 12:57:22']\n",
       "Length: 5, dtype: datetime64[ns]"
      ]
     },
     "execution_count": 13,
     "metadata": {},
     "output_type": "execute_result"
    }
   ],
   "source": [
    "dropDuplicatesCustomer.iloc[:,-1].unique()[:5]"
   ]
  },
  {
   "cell_type": "markdown",
   "metadata": {},
   "source": [
    "### ii. `mobile_verified`"
   ]
  },
  {
   "cell_type": "markdown",
   "metadata": {},
   "source": [
    "As SQL does not have a boolean datatype with `T` or `F` values but instead a `BIT` with `1` and `0` values, we will convert the `mobile_verified` column to `int` datatype by converting `True` to `1` and `False` to `0`"
   ]
  },
  {
   "cell_type": "code",
   "execution_count": 14,
   "metadata": {},
   "outputs": [
    {
     "data": {
      "text/plain": [
       "array([ True, False])"
      ]
     },
     "execution_count": 14,
     "metadata": {},
     "output_type": "execute_result"
    }
   ],
   "source": [
    "dropDuplicatesCustomer.iloc[:,2].unique()"
   ]
  },
  {
   "cell_type": "code",
   "execution_count": 15,
   "metadata": {},
   "outputs": [],
   "source": [
    "dropDuplicatesCustomer.iloc[:,2] = dropDuplicatesCustomer.iloc[:,2].astype('int64')"
   ]
  },
  {
   "cell_type": "code",
   "execution_count": 16,
   "metadata": {},
   "outputs": [
    {
     "data": {
      "text/plain": [
       "array([1, 0], dtype=int64)"
      ]
     },
     "execution_count": 16,
     "metadata": {},
     "output_type": "execute_result"
    }
   ],
   "source": [
    "dropDuplicatesCustomer.iloc[:,2].unique()"
   ]
  },
  {
   "cell_type": "code",
   "execution_count": 17,
   "metadata": {},
   "outputs": [
    {
     "name": "stdout",
     "output_type": "stream",
     "text": [
      "<class 'pandas.core.frame.DataFrame'>\n",
      "Index: 1286774 entries, 0 to 2195915\n",
      "Data columns (total 9 columns):\n",
      " #   Column                            Non-Null Count    Dtype         \n",
      "---  ------                            --------------    -----         \n",
      " 0   country_code                      1286774 non-null  object        \n",
      " 1   customer_id                       1286774 non-null  object        \n",
      " 2   mobile_verified                   1286774 non-null  int64         \n",
      " 3   num_orders_last_50days            1286774 non-null  int64         \n",
      " 4   num_cancelled_orders_last_50days  1286774 non-null  int64         \n",
      " 5   num_refund_orders_last_50days     1286774 non-null  int64         \n",
      " 6   total_payment_last_50days         1286774 non-null  float64       \n",
      " 7   num_associated_customers          1286774 non-null  int64         \n",
      " 8   first_order_datetime              1286774 non-null  datetime64[ns]\n",
      "dtypes: datetime64[ns](1), float64(1), int64(5), object(2)\n",
      "memory usage: 98.2+ MB\n"
     ]
    }
   ],
   "source": [
    "dropDuplicatesCustomer.info()"
   ]
  },
  {
   "cell_type": "markdown",
   "metadata": {},
   "source": [
    "## D. Exporting Cleaned Dataset"
   ]
  },
  {
   "cell_type": "code",
   "execution_count": 18,
   "metadata": {},
   "outputs": [
    {
     "name": "stdout",
     "output_type": "stream",
     "text": [
      "(2195916, 9)\n",
      "(1286774, 9)\n",
      "We removed 909142 rows which is 41.40% of the total number of rows in the dataset\n"
     ]
    }
   ],
   "source": [
    "customer = dropDuplicatesCustomer\n",
    "ogCustomerLength = len(ogCustomer)\n",
    "customerLength = len(customer)\n",
    "\n",
    "print(ogCustomer.shape)\n",
    "print(customer.shape)\n",
    "print(f'We removed {ogCustomerLength - customerLength} rows which is {((ogCustomerLength - customerLength) / ogCustomerLength * 100):.2f}% of the total number of rows in the dataset')"
   ]
  },
  {
   "cell_type": "markdown",
   "metadata": {},
   "source": [
    "Although 41.4% is quite a significant amount of data cleansed from our dataset, we still have more than 1.2 million to work with for our model training which is not too little"
   ]
  },
  {
   "cell_type": "code",
   "execution_count": 19,
   "metadata": {},
   "outputs": [],
   "source": [
    "customer.to_csv('final_customer.csv', index=False)"
   ]
  },
  {
   "cell_type": "markdown",
   "metadata": {},
   "source": [
    "# 3. Data Cleansing (Order)"
   ]
  },
  {
   "cell_type": "code",
   "execution_count": 20,
   "metadata": {},
   "outputs": [
    {
     "data": {
      "text/html": [
       "<div>\n",
       "<style scoped>\n",
       "    .dataframe tbody tr th:only-of-type {\n",
       "        vertical-align: middle;\n",
       "    }\n",
       "\n",
       "    .dataframe tbody tr th {\n",
       "        vertical-align: top;\n",
       "    }\n",
       "\n",
       "    .dataframe thead th {\n",
       "        text-align: right;\n",
       "    }\n",
       "</style>\n",
       "<table border=\"1\" class=\"dataframe\">\n",
       "  <thead>\n",
       "    <tr style=\"text-align: right;\">\n",
       "      <th></th>\n",
       "      <th>country_code</th>\n",
       "      <th>order_id</th>\n",
       "      <th>collect_type</th>\n",
       "      <th>payment_method</th>\n",
       "      <th>order_value</th>\n",
       "      <th>num_items_ordered</th>\n",
       "      <th>refund_value</th>\n",
       "      <th>order_date</th>\n",
       "    </tr>\n",
       "  </thead>\n",
       "  <tbody>\n",
       "    <tr>\n",
       "      <th>0</th>\n",
       "      <td>PH</td>\n",
       "      <td>cktw-hdnh</td>\n",
       "      <td>delivery</td>\n",
       "      <td>credit card</td>\n",
       "      <td>18.379008</td>\n",
       "      <td>2.0</td>\n",
       "      <td>6.07</td>\n",
       "      <td>2023/04/09</td>\n",
       "    </tr>\n",
       "    <tr>\n",
       "      <th>1</th>\n",
       "      <td>PH</td>\n",
       "      <td>s9mi-zzap</td>\n",
       "      <td>delivery</td>\n",
       "      <td>antfinancial gcash</td>\n",
       "      <td>5.387819</td>\n",
       "      <td>4.0</td>\n",
       "      <td>0.00</td>\n",
       "      <td>2023/04/09</td>\n",
       "    </tr>\n",
       "    <tr>\n",
       "      <th>2</th>\n",
       "      <td>PH</td>\n",
       "      <td>vgow-r2i6</td>\n",
       "      <td>delivery</td>\n",
       "      <td>payment on delivery</td>\n",
       "      <td>8.526517</td>\n",
       "      <td>4.0</td>\n",
       "      <td>0.00</td>\n",
       "      <td>2023/04/09</td>\n",
       "    </tr>\n",
       "    <tr>\n",
       "      <th>3</th>\n",
       "      <td>PH</td>\n",
       "      <td>u7pg-7rn7</td>\n",
       "      <td>delivery</td>\n",
       "      <td>antfinancial gcash</td>\n",
       "      <td>7.452310</td>\n",
       "      <td>6.0</td>\n",
       "      <td>0.00</td>\n",
       "      <td>2023/04/09</td>\n",
       "    </tr>\n",
       "    <tr>\n",
       "      <th>4</th>\n",
       "      <td>PH</td>\n",
       "      <td>q6dn-z0p9</td>\n",
       "      <td>delivery</td>\n",
       "      <td>credit card</td>\n",
       "      <td>9.030052</td>\n",
       "      <td>4.0</td>\n",
       "      <td>0.62</td>\n",
       "      <td>2023/04/09</td>\n",
       "    </tr>\n",
       "  </tbody>\n",
       "</table>\n",
       "</div>"
      ],
      "text/plain": [
       "  country_code   order_id collect_type       payment_method  order_value  \\\n",
       "0           PH  cktw-hdnh     delivery          credit card    18.379008   \n",
       "1           PH  s9mi-zzap     delivery   antfinancial gcash     5.387819   \n",
       "2           PH  vgow-r2i6     delivery  payment on delivery     8.526517   \n",
       "3           PH  u7pg-7rn7     delivery   antfinancial gcash     7.452310   \n",
       "4           PH  q6dn-z0p9     delivery          credit card     9.030052   \n",
       "\n",
       "   num_items_ordered  refund_value  order_date  \n",
       "0                2.0          6.07  2023/04/09  \n",
       "1                4.0          0.00  2023/04/09  \n",
       "2                4.0          0.00  2023/04/09  \n",
       "3                6.0          0.00  2023/04/09  \n",
       "4                4.0          0.62  2023/04/09  "
      ]
     },
     "execution_count": 20,
     "metadata": {},
     "output_type": "execute_result"
    }
   ],
   "source": [
    "ogOrder = pd.read_csv(\"training-data-order-features_v1.0.csv\")\n",
    "ogOrder.head()"
   ]
  },
  {
   "cell_type": "code",
   "execution_count": 21,
   "metadata": {},
   "outputs": [
    {
     "data": {
      "text/plain": [
       "(2270509, 8)"
      ]
     },
     "execution_count": 21,
     "metadata": {},
     "output_type": "execute_result"
    }
   ],
   "source": [
    "ogOrder.shape"
   ]
  },
  {
   "cell_type": "markdown",
   "metadata": {},
   "source": [
    "## A. Check for Missing Values"
   ]
  },
  {
   "cell_type": "code",
   "execution_count": 22,
   "metadata": {},
   "outputs": [
    {
     "data": {
      "text/plain": [
       "country_code         0\n",
       "order_id             0\n",
       "collect_type         0\n",
       "payment_method       0\n",
       "order_value          0\n",
       "num_items_ordered    3\n",
       "refund_value         0\n",
       "order_date           0\n",
       "dtype: int64"
      ]
     },
     "execution_count": 22,
     "metadata": {},
     "output_type": "execute_result"
    }
   ],
   "source": [
    "ogOrder.isnull().sum()"
   ]
  },
  {
   "cell_type": "code",
   "execution_count": 23,
   "metadata": {},
   "outputs": [
    {
     "data": {
      "text/plain": [
       "country_code         0\n",
       "order_id             0\n",
       "collect_type         0\n",
       "payment_method       0\n",
       "order_value          0\n",
       "num_items_ordered    0\n",
       "refund_value         0\n",
       "order_date           0\n",
       "dtype: int64"
      ]
     },
     "execution_count": 23,
     "metadata": {},
     "output_type": "execute_result"
    }
   ],
   "source": [
    "dropnaOrder = ogOrder.dropna()\n",
    "dropnaOrder.isnull().sum()"
   ]
  },
  {
   "cell_type": "markdown",
   "metadata": {},
   "source": [
    "## B. Check for Duplicated Rows"
   ]
  },
  {
   "cell_type": "code",
   "execution_count": 24,
   "metadata": {},
   "outputs": [
    {
     "name": "stdout",
     "output_type": "stream",
     "text": [
      "1110\n"
     ]
    }
   ],
   "source": [
    "print(dropnaOrder.duplicated().sum())"
   ]
  },
  {
   "cell_type": "code",
   "execution_count": 25,
   "metadata": {},
   "outputs": [
    {
     "name": "stdout",
     "output_type": "stream",
     "text": [
      "0\n"
     ]
    }
   ],
   "source": [
    "dropDuplicatesOrder = dropnaOrder.drop_duplicates(keep='last')\n",
    "print(dropDuplicatesOrder.duplicated().sum())"
   ]
  },
  {
   "cell_type": "markdown",
   "metadata": {},
   "source": [
    "## C. Check Datatypes"
   ]
  },
  {
   "cell_type": "code",
   "execution_count": 26,
   "metadata": {},
   "outputs": [
    {
     "name": "stdout",
     "output_type": "stream",
     "text": [
      "<class 'pandas.core.frame.DataFrame'>\n",
      "Index: 2269396 entries, 0 to 2270508\n",
      "Data columns (total 8 columns):\n",
      " #   Column             Dtype  \n",
      "---  ------             -----  \n",
      " 0   country_code       object \n",
      " 1   order_id           object \n",
      " 2   collect_type       object \n",
      " 3   payment_method     object \n",
      " 4   order_value        float64\n",
      " 5   num_items_ordered  float64\n",
      " 6   refund_value       float64\n",
      " 7   order_date         object \n",
      "dtypes: float64(3), object(5)\n",
      "memory usage: 155.8+ MB\n"
     ]
    }
   ],
   "source": [
    "dropDuplicatesOrder.info()"
   ]
  },
  {
   "cell_type": "markdown",
   "metadata": {},
   "source": [
    "### i. `order_date`"
   ]
  },
  {
   "cell_type": "code",
   "execution_count": 27,
   "metadata": {},
   "outputs": [
    {
     "data": {
      "text/plain": [
       "array(['2023/04/09', '2023/04/10', '2023/04/11', '2023/04/12',\n",
       "       '2023/04/13'], dtype=object)"
      ]
     },
     "execution_count": 27,
     "metadata": {},
     "output_type": "execute_result"
    }
   ],
   "source": [
    "dropDuplicatesOrder.iloc[:,-1].unique()[:5]"
   ]
  },
  {
   "cell_type": "markdown",
   "metadata": {},
   "source": [
    "As the `order_date` is in `object` datatype, we will convert its format from `YYYY/MM/DD` TO `YYYY-MM-DD` to ensure consistency in the format of the dates"
   ]
  },
  {
   "cell_type": "code",
   "execution_count": 28,
   "metadata": {},
   "outputs": [
    {
     "name": "stderr",
     "output_type": "stream",
     "text": [
      "C:\\Users\\scrab\\AppData\\Local\\Temp\\ipykernel_3240\\909367782.py:1: SettingWithCopyWarning: \n",
      "A value is trying to be set on a copy of a slice from a DataFrame.\n",
      "Try using .loc[row_indexer,col_indexer] = value instead\n",
      "\n",
      "See the caveats in the documentation: https://pandas.pydata.org/pandas-docs/stable/user_guide/indexing.html#returning-a-view-versus-a-copy\n",
      "  dropDuplicatesOrder['order_date'] = dropDuplicatesOrder['order_date'].str.replace('/', '-', regex=False)\n",
      "C:\\Users\\scrab\\AppData\\Local\\Temp\\ipykernel_3240\\909367782.py:2: SettingWithCopyWarning: \n",
      "A value is trying to be set on a copy of a slice from a DataFrame.\n",
      "Try using .loc[row_indexer,col_indexer] = value instead\n",
      "\n",
      "See the caveats in the documentation: https://pandas.pydata.org/pandas-docs/stable/user_guide/indexing.html#returning-a-view-versus-a-copy\n",
      "  dropDuplicatesOrder['order_date'] = pd.to_datetime(dropDuplicatesOrder['order_date'], format='%Y-%m-%d')\n"
     ]
    }
   ],
   "source": [
    "dropDuplicatesOrder['order_date'] = dropDuplicatesOrder['order_date'].str.replace('/', '-', regex=False)\n",
    "dropDuplicatesOrder['order_date'] = pd.to_datetime(dropDuplicatesOrder['order_date'], format='%Y-%m-%d')"
   ]
  },
  {
   "cell_type": "code",
   "execution_count": 29,
   "metadata": {},
   "outputs": [
    {
     "data": {
      "text/plain": [
       "<DatetimeArray>\n",
       "['2023-04-09 00:00:00', '2023-04-10 00:00:00', '2023-04-11 00:00:00',\n",
       " '2023-04-12 00:00:00', '2023-04-13 00:00:00']\n",
       "Length: 5, dtype: datetime64[ns]"
      ]
     },
     "execution_count": 29,
     "metadata": {},
     "output_type": "execute_result"
    }
   ],
   "source": [
    "dropDuplicatesOrder.iloc[:,-1].unique()[:5]"
   ]
  },
  {
   "cell_type": "code",
   "execution_count": 30,
   "metadata": {},
   "outputs": [
    {
     "name": "stdout",
     "output_type": "stream",
     "text": [
      "<class 'pandas.core.frame.DataFrame'>\n",
      "Index: 2269396 entries, 0 to 2270508\n",
      "Data columns (total 8 columns):\n",
      " #   Column             Dtype         \n",
      "---  ------             -----         \n",
      " 0   country_code       object        \n",
      " 1   order_id           object        \n",
      " 2   collect_type       object        \n",
      " 3   payment_method     object        \n",
      " 4   order_value        float64       \n",
      " 5   num_items_ordered  float64       \n",
      " 6   refund_value       float64       \n",
      " 7   order_date         datetime64[ns]\n",
      "dtypes: datetime64[ns](1), float64(3), object(4)\n",
      "memory usage: 155.8+ MB\n"
     ]
    }
   ],
   "source": [
    "dropDuplicatesOrder.info()"
   ]
  },
  {
   "cell_type": "markdown",
   "metadata": {},
   "source": [
    "## D. Exporting Cleaned Dataset"
   ]
  },
  {
   "cell_type": "code",
   "execution_count": 31,
   "metadata": {},
   "outputs": [
    {
     "name": "stdout",
     "output_type": "stream",
     "text": [
      "(2270509, 8)\n",
      "(2269396, 8)\n",
      "We removed 1113 rows which is 0.05% of the total number of rows in the dataset\n"
     ]
    }
   ],
   "source": [
    "order = dropDuplicatesOrder\n",
    "ogOrderLength = len(ogOrder)\n",
    "orderLength = len(order)\n",
    "\n",
    "print(ogOrder.shape)\n",
    "print(order.shape)\n",
    "print(f'We removed {ogOrderLength - orderLength} rows which is {((ogOrderLength - orderLength) / ogOrderLength * 100):.2f}% of the total number of rows in the dataset')"
   ]
  },
  {
   "cell_type": "code",
   "execution_count": 32,
   "metadata": {},
   "outputs": [],
   "source": [
    "order.to_csv('final_order.csv', index=False)"
   ]
  },
  {
   "cell_type": "markdown",
   "metadata": {},
   "source": [
    "# 4. Data Cleansing (Labels)"
   ]
  },
  {
   "cell_type": "code",
   "execution_count": 33,
   "metadata": {},
   "outputs": [
    {
     "data": {
      "text/html": [
       "<div>\n",
       "<style scoped>\n",
       "    .dataframe tbody tr th:only-of-type {\n",
       "        vertical-align: middle;\n",
       "    }\n",
       "\n",
       "    .dataframe tbody tr th {\n",
       "        vertical-align: top;\n",
       "    }\n",
       "\n",
       "    .dataframe thead th {\n",
       "        text-align: right;\n",
       "    }\n",
       "</style>\n",
       "<table border=\"1\" class=\"dataframe\">\n",
       "  <thead>\n",
       "    <tr style=\"text-align: right;\">\n",
       "      <th></th>\n",
       "      <th>country_code</th>\n",
       "      <th>order_id</th>\n",
       "      <th>customer_id</th>\n",
       "      <th>is_fraud</th>\n",
       "    </tr>\n",
       "  </thead>\n",
       "  <tbody>\n",
       "    <tr>\n",
       "      <th>0</th>\n",
       "      <td>BD</td>\n",
       "      <td>w2lx-myz3</td>\n",
       "      <td>bdpr8uva</td>\n",
       "      <td>0</td>\n",
       "    </tr>\n",
       "    <tr>\n",
       "      <th>1</th>\n",
       "      <td>BD</td>\n",
       "      <td>ta7z-r91q</td>\n",
       "      <td>bd59rlzo</td>\n",
       "      <td>0</td>\n",
       "    </tr>\n",
       "    <tr>\n",
       "      <th>2</th>\n",
       "      <td>BD</td>\n",
       "      <td>t5af-wgb2</td>\n",
       "      <td>bd6zhjvq</td>\n",
       "      <td>0</td>\n",
       "    </tr>\n",
       "    <tr>\n",
       "      <th>3</th>\n",
       "      <td>BD</td>\n",
       "      <td>sibu-9lm4</td>\n",
       "      <td>bd4fv4rb</td>\n",
       "      <td>0</td>\n",
       "    </tr>\n",
       "    <tr>\n",
       "      <th>4</th>\n",
       "      <td>BD</td>\n",
       "      <td>we61-omtr</td>\n",
       "      <td>bdzeepq7</td>\n",
       "      <td>0</td>\n",
       "    </tr>\n",
       "  </tbody>\n",
       "</table>\n",
       "</div>"
      ],
      "text/plain": [
       "  country_code   order_id customer_id  is_fraud\n",
       "0           BD  w2lx-myz3    bdpr8uva         0\n",
       "1           BD  ta7z-r91q    bd59rlzo         0\n",
       "2           BD  t5af-wgb2    bd6zhjvq         0\n",
       "3           BD  sibu-9lm4    bd4fv4rb         0\n",
       "4           BD  we61-omtr    bdzeepq7         0"
      ]
     },
     "execution_count": 33,
     "metadata": {},
     "output_type": "execute_result"
    }
   ],
   "source": [
    "ogLabels = pd.read_csv(\"training-labels_v1.0.csv\")\n",
    "ogLabels.head()"
   ]
  },
  {
   "cell_type": "code",
   "execution_count": 34,
   "metadata": {},
   "outputs": [
    {
     "data": {
      "text/plain": [
       "(2414179, 4)"
      ]
     },
     "execution_count": 34,
     "metadata": {},
     "output_type": "execute_result"
    }
   ],
   "source": [
    "ogLabels.shape"
   ]
  },
  {
   "cell_type": "markdown",
   "metadata": {},
   "source": [
    "## A. Checking for Missing Values"
   ]
  },
  {
   "cell_type": "code",
   "execution_count": 35,
   "metadata": {},
   "outputs": [
    {
     "data": {
      "text/plain": [
       "country_code    0\n",
       "order_id        0\n",
       "customer_id     0\n",
       "is_fraud        0\n",
       "dtype: int64"
      ]
     },
     "execution_count": 35,
     "metadata": {},
     "output_type": "execute_result"
    }
   ],
   "source": [
    "ogLabels.isnull().sum()"
   ]
  },
  {
   "cell_type": "markdown",
   "metadata": {},
   "source": [
    "## B. Checking for Duplicated Rows"
   ]
  },
  {
   "cell_type": "code",
   "execution_count": 36,
   "metadata": {},
   "outputs": [
    {
     "data": {
      "text/plain": [
       "143612"
      ]
     },
     "execution_count": 36,
     "metadata": {},
     "output_type": "execute_result"
    }
   ],
   "source": [
    "ogLabels.duplicated(subset=['country_code', 'order_id', 'customer_id']).sum()"
   ]
  },
  {
   "cell_type": "code",
   "execution_count": 37,
   "metadata": {},
   "outputs": [
    {
     "data": {
      "text/plain": [
       "0"
      ]
     },
     "execution_count": 37,
     "metadata": {},
     "output_type": "execute_result"
    }
   ],
   "source": [
    "dropDuplicatesLabels = ogLabels.drop_duplicates(subset=['country_code', 'order_id', 'customer_id'], keep='last')\n",
    "dropDuplicatesLabels.duplicated().sum()"
   ]
  },
  {
   "cell_type": "markdown",
   "metadata": {},
   "source": [
    "## C. Check Datatypes"
   ]
  },
  {
   "cell_type": "code",
   "execution_count": 38,
   "metadata": {},
   "outputs": [
    {
     "name": "stdout",
     "output_type": "stream",
     "text": [
      "<class 'pandas.core.frame.DataFrame'>\n",
      "Index: 2270567 entries, 0 to 2414178\n",
      "Data columns (total 4 columns):\n",
      " #   Column        Dtype \n",
      "---  ------        ----- \n",
      " 0   country_code  object\n",
      " 1   order_id      object\n",
      " 2   customer_id   object\n",
      " 3   is_fraud      int64 \n",
      "dtypes: int64(1), object(3)\n",
      "memory usage: 86.6+ MB\n"
     ]
    }
   ],
   "source": [
    "dropDuplicatesLabels.info()"
   ]
  },
  {
   "cell_type": "markdown",
   "metadata": {},
   "source": [
    "## D. Exporting Cleaned Dataset"
   ]
  },
  {
   "cell_type": "code",
   "execution_count": 39,
   "metadata": {},
   "outputs": [
    {
     "name": "stdout",
     "output_type": "stream",
     "text": [
      "(2414179, 4)\n",
      "(2270567, 4)\n",
      "We removed 143612 rows which is 5.95% of the total number of rows in the dataset\n"
     ]
    }
   ],
   "source": [
    "labels = dropDuplicatesLabels\n",
    "ogLabelsLength = len(ogLabels)\n",
    "labelsLength = len(labels)\n",
    "\n",
    "print(ogLabels.shape)\n",
    "print(labels.shape)\n",
    "print(f'We removed {ogLabelsLength - labelsLength} rows which is {((ogLabelsLength - labelsLength) / ogLabelsLength * 100):.2f}% of the total number of rows in the dataset')"
   ]
  },
  {
   "cell_type": "code",
   "execution_count": 40,
   "metadata": {},
   "outputs": [],
   "source": [
    "labels.to_csv('final_labels.csv', index=False)"
   ]
  }
 ],
 "metadata": {
  "kernelspec": {
   "display_name": "Python 3",
   "language": "python",
   "name": "python3"
  },
  "language_info": {
   "codemirror_mode": {
    "name": "ipython",
    "version": 3
   },
   "file_extension": ".py",
   "mimetype": "text/x-python",
   "name": "python",
   "nbconvert_exporter": "python",
   "pygments_lexer": "ipython3",
   "version": "3.11.5"
  },
  "orig_nbformat": 4
 },
 "nbformat": 4,
 "nbformat_minor": 2
}
