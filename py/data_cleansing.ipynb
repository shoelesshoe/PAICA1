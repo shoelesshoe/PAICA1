{
 "cells": [
  {
   "cell_type": "markdown",
   "metadata": {},
   "source": [
    "# Import Libraries"
   ]
  },
  {
   "cell_type": "code",
   "execution_count": 1,
   "metadata": {},
   "outputs": [],
   "source": [
    "import os\n",
    "os.chdir(r'C:\\Users\\p2308924\\Practical AI (PAI)\\Github CA\\PAICA1\\Datasets')\n",
    "\n",
    "import pandas as pd"
   ]
  },
  {
   "cell_type": "markdown",
   "metadata": {},
   "source": [
    "# Customer"
   ]
  },
  {
   "cell_type": "code",
   "execution_count": 2,
   "metadata": {},
   "outputs": [
    {
     "data": {
      "text/html": [
       "<div>\n",
       "<style scoped>\n",
       "    .dataframe tbody tr th:only-of-type {\n",
       "        vertical-align: middle;\n",
       "    }\n",
       "\n",
       "    .dataframe tbody tr th {\n",
       "        vertical-align: top;\n",
       "    }\n",
       "\n",
       "    .dataframe thead th {\n",
       "        text-align: right;\n",
       "    }\n",
       "</style>\n",
       "<table border=\"1\" class=\"dataframe\">\n",
       "  <thead>\n",
       "    <tr style=\"text-align: right;\">\n",
       "      <th></th>\n",
       "      <th>country_code</th>\n",
       "      <th>customer_id</th>\n",
       "      <th>mobile_verified</th>\n",
       "      <th>num_orders_last_50days</th>\n",
       "      <th>num_cancelled_orders_last_50days</th>\n",
       "      <th>num_refund_orders_last_50days</th>\n",
       "      <th>total_payment_last_50days</th>\n",
       "      <th>num_associated_customers</th>\n",
       "      <th>first_order_datetime</th>\n",
       "    </tr>\n",
       "  </thead>\n",
       "  <tbody>\n",
       "    <tr>\n",
       "      <th>0</th>\n",
       "      <td>PH</td>\n",
       "      <td>phjr7fpu</td>\n",
       "      <td>True</td>\n",
       "      <td>0</td>\n",
       "      <td>0</td>\n",
       "      <td>0</td>\n",
       "      <td>0.000000</td>\n",
       "      <td>1</td>\n",
       "      <td>2023-02-06 14:31:37</td>\n",
       "    </tr>\n",
       "    <tr>\n",
       "      <th>1</th>\n",
       "      <td>PH</td>\n",
       "      <td>phawdv1w</td>\n",
       "      <td>True</td>\n",
       "      <td>0</td>\n",
       "      <td>0</td>\n",
       "      <td>0</td>\n",
       "      <td>1.082516</td>\n",
       "      <td>1</td>\n",
       "      <td>2023-02-07 10:03:22</td>\n",
       "    </tr>\n",
       "    <tr>\n",
       "      <th>2</th>\n",
       "      <td>PH</td>\n",
       "      <td>ph9ocrr7</td>\n",
       "      <td>True</td>\n",
       "      <td>0</td>\n",
       "      <td>0</td>\n",
       "      <td>0</td>\n",
       "      <td>0.050195</td>\n",
       "      <td>2</td>\n",
       "      <td>2022-03-08 06:16:09</td>\n",
       "    </tr>\n",
       "    <tr>\n",
       "      <th>3</th>\n",
       "      <td>PH</td>\n",
       "      <td>phf8rsec</td>\n",
       "      <td>True</td>\n",
       "      <td>0</td>\n",
       "      <td>0</td>\n",
       "      <td>0</td>\n",
       "      <td>0.000000</td>\n",
       "      <td>3</td>\n",
       "      <td>2021-08-07 13:54:45</td>\n",
       "    </tr>\n",
       "    <tr>\n",
       "      <th>4</th>\n",
       "      <td>PH</td>\n",
       "      <td>ph74rzxh</td>\n",
       "      <td>True</td>\n",
       "      <td>0</td>\n",
       "      <td>0</td>\n",
       "      <td>0</td>\n",
       "      <td>0.000000</td>\n",
       "      <td>1</td>\n",
       "      <td>2022-01-28 12:57:22</td>\n",
       "    </tr>\n",
       "  </tbody>\n",
       "</table>\n",
       "</div>"
      ],
      "text/plain": [
       "  country_code customer_id  mobile_verified  num_orders_last_50days  \\\n",
       "0           PH    phjr7fpu             True                       0   \n",
       "1           PH    phawdv1w             True                       0   \n",
       "2           PH    ph9ocrr7             True                       0   \n",
       "3           PH    phf8rsec             True                       0   \n",
       "4           PH    ph74rzxh             True                       0   \n",
       "\n",
       "   num_cancelled_orders_last_50days  num_refund_orders_last_50days  \\\n",
       "0                                 0                              0   \n",
       "1                                 0                              0   \n",
       "2                                 0                              0   \n",
       "3                                 0                              0   \n",
       "4                                 0                              0   \n",
       "\n",
       "   total_payment_last_50days  num_associated_customers first_order_datetime  \n",
       "0                   0.000000                         1  2023-02-06 14:31:37  \n",
       "1                   1.082516                         1  2023-02-07 10:03:22  \n",
       "2                   0.050195                         2  2022-03-08 06:16:09  \n",
       "3                   0.000000                         3  2021-08-07 13:54:45  \n",
       "4                   0.000000                         1  2022-01-28 12:57:22  "
      ]
     },
     "execution_count": 2,
     "metadata": {},
     "output_type": "execute_result"
    }
   ],
   "source": [
    "ogCustomer = pd.read_csv(\"training-data-customer-features_v1.0.csv\")\n",
    "ogCustomer.head()"
   ]
  },
  {
   "cell_type": "code",
   "execution_count": 3,
   "metadata": {},
   "outputs": [
    {
     "data": {
      "text/plain": [
       "(2195916, 9)"
      ]
     },
     "execution_count": 3,
     "metadata": {},
     "output_type": "execute_result"
    }
   ],
   "source": [
    "ogCustomer.shape"
   ]
  },
  {
   "cell_type": "markdown",
   "metadata": {},
   "source": [
    "# Missing Values"
   ]
  },
  {
   "cell_type": "code",
   "execution_count": 4,
   "metadata": {},
   "outputs": [
    {
     "data": {
      "text/plain": [
       "country_code                           0\n",
       "customer_id                            0\n",
       "mobile_verified                        0\n",
       "num_orders_last_50days                 0\n",
       "num_cancelled_orders_last_50days       0\n",
       "num_refund_orders_last_50days          0\n",
       "total_payment_last_50days              0\n",
       "num_associated_customers               0\n",
       "first_order_datetime                1240\n",
       "dtype: int64"
      ]
     },
     "execution_count": 4,
     "metadata": {},
     "output_type": "execute_result"
    }
   ],
   "source": [
    "ogCustomer.isnull().sum()"
   ]
  },
  {
   "cell_type": "code",
   "execution_count": 5,
   "metadata": {},
   "outputs": [
    {
     "name": "stdout",
     "output_type": "stream",
     "text": [
      "0.06% of the rows contain missing values. Since 0.06% is very insignificant, we will drop the missing values\n"
     ]
    }
   ],
   "source": [
    "percentageOfNa = round(ogCustomer.iloc[:,-1].isnull().sum() / len(ogCustomer.iloc[:,-1]) * 100, 2)\n",
    "print(f'{percentageOfNa}% of the rows contain missing values. Since {percentageOfNa}% is very insignificant, we will drop the missing values')"
   ]
  },
  {
   "cell_type": "code",
   "execution_count": 6,
   "metadata": {},
   "outputs": [
    {
     "data": {
      "text/plain": [
       "country_code                        0\n",
       "customer_id                         0\n",
       "mobile_verified                     0\n",
       "num_orders_last_50days              0\n",
       "num_cancelled_orders_last_50days    0\n",
       "num_refund_orders_last_50days       0\n",
       "total_payment_last_50days           0\n",
       "num_associated_customers            0\n",
       "first_order_datetime                0\n",
       "dtype: int64"
      ]
     },
     "execution_count": 6,
     "metadata": {},
     "output_type": "execute_result"
    }
   ],
   "source": [
    "dropnaCustomer = ogCustomer.dropna()\n",
    "dropnaCustomer.isnull().sum()"
   ]
  },
  {
   "cell_type": "markdown",
   "metadata": {},
   "source": [
    "# Duplicated Rows"
   ]
  },
  {
   "cell_type": "code",
   "execution_count": 7,
   "metadata": {},
   "outputs": [
    {
     "data": {
      "text/plain": [
       "34"
      ]
     },
     "execution_count": 7,
     "metadata": {},
     "output_type": "execute_result"
    }
   ],
   "source": [
    "dropnaCustomer.duplicated().sum()"
   ]
  },
  {
   "cell_type": "code",
   "execution_count": 8,
   "metadata": {},
   "outputs": [
    {
     "data": {
      "text/plain": [
       "0"
      ]
     },
     "execution_count": 8,
     "metadata": {},
     "output_type": "execute_result"
    }
   ],
   "source": [
    "dropDuplicatesCustomer = dropnaCustomer.drop_duplicates(keep='last')\n",
    "dropDuplicatesCustomer.duplicated().sum()"
   ]
  },
  {
   "cell_type": "markdown",
   "metadata": {},
   "source": [
    "# Datatypes"
   ]
  },
  {
   "cell_type": "code",
   "execution_count": 9,
   "metadata": {},
   "outputs": [
    {
     "name": "stdout",
     "output_type": "stream",
     "text": [
      "<class 'pandas.core.frame.DataFrame'>\n",
      "Int64Index: 2194642 entries, 0 to 2195915\n",
      "Data columns (total 9 columns):\n",
      " #   Column                            Dtype  \n",
      "---  ------                            -----  \n",
      " 0   country_code                      object \n",
      " 1   customer_id                       object \n",
      " 2   mobile_verified                   bool   \n",
      " 3   num_orders_last_50days            int64  \n",
      " 4   num_cancelled_orders_last_50days  int64  \n",
      " 5   num_refund_orders_last_50days     int64  \n",
      " 6   total_payment_last_50days         float64\n",
      " 7   num_associated_customers          int64  \n",
      " 8   first_order_datetime              object \n",
      "dtypes: bool(1), float64(1), int64(4), object(3)\n",
      "memory usage: 152.8+ MB\n"
     ]
    }
   ],
   "source": [
    "dropDuplicatesCustomer.info()"
   ]
  },
  {
   "cell_type": "code",
   "execution_count": 10,
   "metadata": {},
   "outputs": [
    {
     "name": "stderr",
     "output_type": "stream",
     "text": [
      "C:\\Users\\p2308924\\AppData\\Local\\Temp\\ipykernel_13076\\2293589161.py:1: SettingWithCopyWarning: \n",
      "A value is trying to be set on a copy of a slice from a DataFrame.\n",
      "Try using .loc[row_indexer,col_indexer] = value instead\n",
      "\n",
      "See the caveats in the documentation: https://pandas.pydata.org/pandas-docs/stable/user_guide/indexing.html#returning-a-view-versus-a-copy\n",
      "  dropDuplicatesCustomer.iloc[:,-1] = pd.to_datetime(dropDuplicatesCustomer.iloc[:,-1], format='%Y-%m-%d %H:%M:%S')\n"
     ]
    }
   ],
   "source": [
    "dropDuplicatesCustomer.iloc[:,-1] = pd.to_datetime(dropDuplicatesCustomer.iloc[:,-1], format='%Y-%m-%d %H:%M:%S')"
   ]
  },
  {
   "cell_type": "code",
   "execution_count": 11,
   "metadata": {},
   "outputs": [
    {
     "name": "stderr",
     "output_type": "stream",
     "text": [
      "C:\\Users\\p2308924\\AppData\\Local\\Temp\\ipykernel_13076\\2658627371.py:1: SettingWithCopyWarning: \n",
      "A value is trying to be set on a copy of a slice from a DataFrame.\n",
      "Try using .loc[row_indexer,col_indexer] = value instead\n",
      "\n",
      "See the caveats in the documentation: https://pandas.pydata.org/pandas-docs/stable/user_guide/indexing.html#returning-a-view-versus-a-copy\n",
      "  dropDuplicatesCustomer.iloc[:,2] = dropDuplicatesCustomer.iloc[:,2].astype(int)\n"
     ]
    }
   ],
   "source": [
    "dropDuplicatesCustomer.iloc[:,2] = dropDuplicatesCustomer.iloc[:,2].astype(int)"
   ]
  },
  {
   "cell_type": "code",
   "execution_count": 12,
   "metadata": {},
   "outputs": [
    {
     "data": {
      "text/plain": [
       "array([1, 0])"
      ]
     },
     "execution_count": 12,
     "metadata": {},
     "output_type": "execute_result"
    }
   ],
   "source": [
    "dropDuplicatesCustomer.iloc[:,2].unique()"
   ]
  },
  {
   "cell_type": "code",
   "execution_count": 13,
   "metadata": {},
   "outputs": [
    {
     "name": "stdout",
     "output_type": "stream",
     "text": [
      "<class 'pandas.core.frame.DataFrame'>\n",
      "Int64Index: 2194642 entries, 0 to 2195915\n",
      "Data columns (total 9 columns):\n",
      " #   Column                            Dtype         \n",
      "---  ------                            -----         \n",
      " 0   country_code                      object        \n",
      " 1   customer_id                       object        \n",
      " 2   mobile_verified                   int32         \n",
      " 3   num_orders_last_50days            int64         \n",
      " 4   num_cancelled_orders_last_50days  int64         \n",
      " 5   num_refund_orders_last_50days     int64         \n",
      " 6   total_payment_last_50days         float64       \n",
      " 7   num_associated_customers          int64         \n",
      " 8   first_order_datetime              datetime64[ns]\n",
      "dtypes: datetime64[ns](1), float64(1), int32(1), int64(4), object(2)\n",
      "memory usage: 159.1+ MB\n"
     ]
    }
   ],
   "source": [
    "dropDuplicatesCustomer.info()"
   ]
  },
  {
   "cell_type": "markdown",
   "metadata": {},
   "source": [
    "# Reindex"
   ]
  },
  {
   "cell_type": "code",
   "execution_count": 14,
   "metadata": {},
   "outputs": [
    {
     "data": {
      "text/html": [
       "<div>\n",
       "<style scoped>\n",
       "    .dataframe tbody tr th:only-of-type {\n",
       "        vertical-align: middle;\n",
       "    }\n",
       "\n",
       "    .dataframe tbody tr th {\n",
       "        vertical-align: top;\n",
       "    }\n",
       "\n",
       "    .dataframe thead th {\n",
       "        text-align: right;\n",
       "    }\n",
       "</style>\n",
       "<table border=\"1\" class=\"dataframe\">\n",
       "  <thead>\n",
       "    <tr style=\"text-align: right;\">\n",
       "      <th></th>\n",
       "      <th>country_code</th>\n",
       "      <th>customer_id</th>\n",
       "      <th>mobile_verified</th>\n",
       "      <th>num_orders_last_50days</th>\n",
       "      <th>num_cancelled_orders_last_50days</th>\n",
       "      <th>num_refund_orders_last_50days</th>\n",
       "      <th>total_payment_last_50days</th>\n",
       "      <th>num_associated_customers</th>\n",
       "      <th>first_order_datetime</th>\n",
       "    </tr>\n",
       "  </thead>\n",
       "  <tbody>\n",
       "    <tr>\n",
       "      <th>0</th>\n",
       "      <td>PH</td>\n",
       "      <td>phjr7fpu</td>\n",
       "      <td>1</td>\n",
       "      <td>0</td>\n",
       "      <td>0</td>\n",
       "      <td>0</td>\n",
       "      <td>0.000000</td>\n",
       "      <td>1</td>\n",
       "      <td>2023-02-06 14:31:37</td>\n",
       "    </tr>\n",
       "    <tr>\n",
       "      <th>1</th>\n",
       "      <td>PH</td>\n",
       "      <td>phawdv1w</td>\n",
       "      <td>1</td>\n",
       "      <td>0</td>\n",
       "      <td>0</td>\n",
       "      <td>0</td>\n",
       "      <td>1.082516</td>\n",
       "      <td>1</td>\n",
       "      <td>2023-02-07 10:03:22</td>\n",
       "    </tr>\n",
       "    <tr>\n",
       "      <th>2</th>\n",
       "      <td>PH</td>\n",
       "      <td>ph9ocrr7</td>\n",
       "      <td>1</td>\n",
       "      <td>0</td>\n",
       "      <td>0</td>\n",
       "      <td>0</td>\n",
       "      <td>0.050195</td>\n",
       "      <td>2</td>\n",
       "      <td>2022-03-08 06:16:09</td>\n",
       "    </tr>\n",
       "    <tr>\n",
       "      <th>3</th>\n",
       "      <td>PH</td>\n",
       "      <td>phf8rsec</td>\n",
       "      <td>1</td>\n",
       "      <td>0</td>\n",
       "      <td>0</td>\n",
       "      <td>0</td>\n",
       "      <td>0.000000</td>\n",
       "      <td>3</td>\n",
       "      <td>2021-08-07 13:54:45</td>\n",
       "    </tr>\n",
       "    <tr>\n",
       "      <th>4</th>\n",
       "      <td>PH</td>\n",
       "      <td>ph74rzxh</td>\n",
       "      <td>1</td>\n",
       "      <td>0</td>\n",
       "      <td>0</td>\n",
       "      <td>0</td>\n",
       "      <td>0.000000</td>\n",
       "      <td>1</td>\n",
       "      <td>2022-01-28 12:57:22</td>\n",
       "    </tr>\n",
       "    <tr>\n",
       "      <th>...</th>\n",
       "      <td>...</td>\n",
       "      <td>...</td>\n",
       "      <td>...</td>\n",
       "      <td>...</td>\n",
       "      <td>...</td>\n",
       "      <td>...</td>\n",
       "      <td>...</td>\n",
       "      <td>...</td>\n",
       "      <td>...</td>\n",
       "    </tr>\n",
       "    <tr>\n",
       "      <th>2194637</th>\n",
       "      <td>PK</td>\n",
       "      <td>j6nfn5ti</td>\n",
       "      <td>1</td>\n",
       "      <td>255</td>\n",
       "      <td>0</td>\n",
       "      <td>2</td>\n",
       "      <td>2234.896087</td>\n",
       "      <td>1</td>\n",
       "      <td>2014-11-01 06:55:11</td>\n",
       "    </tr>\n",
       "    <tr>\n",
       "      <th>2194638</th>\n",
       "      <td>PK</td>\n",
       "      <td>b4gpu8af</td>\n",
       "      <td>1</td>\n",
       "      <td>255</td>\n",
       "      <td>2</td>\n",
       "      <td>2</td>\n",
       "      <td>1175.236232</td>\n",
       "      <td>3</td>\n",
       "      <td>2022-06-25 07:03:58</td>\n",
       "    </tr>\n",
       "    <tr>\n",
       "      <th>2194639</th>\n",
       "      <td>PK</td>\n",
       "      <td>pkfwi1dm</td>\n",
       "      <td>1</td>\n",
       "      <td>255</td>\n",
       "      <td>3</td>\n",
       "      <td>14</td>\n",
       "      <td>988.869450</td>\n",
       "      <td>3</td>\n",
       "      <td>2018-12-21 12:04:11</td>\n",
       "    </tr>\n",
       "    <tr>\n",
       "      <th>2194640</th>\n",
       "      <td>PK</td>\n",
       "      <td>m5hje3za</td>\n",
       "      <td>1</td>\n",
       "      <td>255</td>\n",
       "      <td>9</td>\n",
       "      <td>8</td>\n",
       "      <td>1852.352367</td>\n",
       "      <td>2</td>\n",
       "      <td>2014-03-26 06:10:24</td>\n",
       "    </tr>\n",
       "    <tr>\n",
       "      <th>2194641</th>\n",
       "      <td>PK</td>\n",
       "      <td>a3pii8gl</td>\n",
       "      <td>1</td>\n",
       "      <td>255</td>\n",
       "      <td>3</td>\n",
       "      <td>6</td>\n",
       "      <td>1944.743490</td>\n",
       "      <td>3</td>\n",
       "      <td>2014-12-13 15:05:26</td>\n",
       "    </tr>\n",
       "  </tbody>\n",
       "</table>\n",
       "<p>2194642 rows × 9 columns</p>\n",
       "</div>"
      ],
      "text/plain": [
       "        country_code customer_id  mobile_verified  num_orders_last_50days  \\\n",
       "0                 PH    phjr7fpu                1                       0   \n",
       "1                 PH    phawdv1w                1                       0   \n",
       "2                 PH    ph9ocrr7                1                       0   \n",
       "3                 PH    phf8rsec                1                       0   \n",
       "4                 PH    ph74rzxh                1                       0   \n",
       "...              ...         ...              ...                     ...   \n",
       "2194637           PK    j6nfn5ti                1                     255   \n",
       "2194638           PK    b4gpu8af                1                     255   \n",
       "2194639           PK    pkfwi1dm                1                     255   \n",
       "2194640           PK    m5hje3za                1                     255   \n",
       "2194641           PK    a3pii8gl                1                     255   \n",
       "\n",
       "         num_cancelled_orders_last_50days  num_refund_orders_last_50days  \\\n",
       "0                                       0                              0   \n",
       "1                                       0                              0   \n",
       "2                                       0                              0   \n",
       "3                                       0                              0   \n",
       "4                                       0                              0   \n",
       "...                                   ...                            ...   \n",
       "2194637                                 0                              2   \n",
       "2194638                                 2                              2   \n",
       "2194639                                 3                             14   \n",
       "2194640                                 9                              8   \n",
       "2194641                                 3                              6   \n",
       "\n",
       "         total_payment_last_50days  num_associated_customers  \\\n",
       "0                         0.000000                         1   \n",
       "1                         1.082516                         1   \n",
       "2                         0.050195                         2   \n",
       "3                         0.000000                         3   \n",
       "4                         0.000000                         1   \n",
       "...                            ...                       ...   \n",
       "2194637                2234.896087                         1   \n",
       "2194638                1175.236232                         3   \n",
       "2194639                 988.869450                         3   \n",
       "2194640                1852.352367                         2   \n",
       "2194641                1944.743490                         3   \n",
       "\n",
       "        first_order_datetime  \n",
       "0        2023-02-06 14:31:37  \n",
       "1        2023-02-07 10:03:22  \n",
       "2        2022-03-08 06:16:09  \n",
       "3        2021-08-07 13:54:45  \n",
       "4        2022-01-28 12:57:22  \n",
       "...                      ...  \n",
       "2194637  2014-11-01 06:55:11  \n",
       "2194638  2022-06-25 07:03:58  \n",
       "2194639  2018-12-21 12:04:11  \n",
       "2194640  2014-03-26 06:10:24  \n",
       "2194641  2014-12-13 15:05:26  \n",
       "\n",
       "[2194642 rows x 9 columns]"
      ]
     },
     "execution_count": 14,
     "metadata": {},
     "output_type": "execute_result"
    }
   ],
   "source": [
    "customer = dropDuplicatesCustomer.reset_index(drop=True)\n",
    "customer"
   ]
  },
  {
   "cell_type": "code",
   "execution_count": 15,
   "metadata": {},
   "outputs": [
    {
     "name": "stdout",
     "output_type": "stream",
     "text": [
      "(2195916, 9)\n",
      "(2194642, 9)\n",
      "We removed 1274 rows which is 0.06% of the total number of rows in the dataset\n"
     ]
    }
   ],
   "source": [
    "ogCustomerLength = len(ogCustomer)\n",
    "customerLength = len(customer)\n",
    "\n",
    "print(ogCustomer.shape)\n",
    "print(customer.shape)\n",
    "print(f'We removed {ogCustomerLength - customerLength} rows which is {((ogCustomerLength - customerLength) / ogCustomerLength * 100):.2f}% of the total number of rows in the dataset')"
   ]
  },
  {
   "cell_type": "code",
   "execution_count": 16,
   "metadata": {},
   "outputs": [],
   "source": [
    "customer.to_csv('final_customer.csv')"
   ]
  },
  {
   "cell_type": "markdown",
   "metadata": {},
   "source": [
    "# Order"
   ]
  },
  {
   "cell_type": "code",
   "execution_count": null,
   "metadata": {},
   "outputs": [],
   "source": [
    "ogOrder = pd.read_csv(\"training-data-order-features_v1.0.csv\")\n",
    "ogOrder.head()"
   ]
  },
  {
   "cell_type": "code",
   "execution_count": null,
   "metadata": {},
   "outputs": [],
   "source": [
    "ogOrder.shape"
   ]
  },
  {
   "cell_type": "markdown",
   "metadata": {},
   "source": [
    "# Missing Values"
   ]
  },
  {
   "cell_type": "code",
   "execution_count": null,
   "metadata": {},
   "outputs": [],
   "source": [
    "ogOrder.isnull().sum()"
   ]
  },
  {
   "cell_type": "code",
   "execution_count": null,
   "metadata": {},
   "outputs": [],
   "source": [
    "dropnaOrder = ogOrder.dropna()\n",
    "dropnaOrder.isnull().sum()"
   ]
  },
  {
   "cell_type": "markdown",
   "metadata": {},
   "source": [
    "# Duplicated Rows"
   ]
  },
  {
   "cell_type": "code",
   "execution_count": null,
   "metadata": {},
   "outputs": [],
   "source": [
    "dropnaOrder.duplicated().sum()"
   ]
  },
  {
   "cell_type": "code",
   "execution_count": null,
   "metadata": {},
   "outputs": [],
   "source": [
    "dropDuplicatesOrder = dropnaOrder.drop_duplicates(keep='last')\n",
    "dropDuplicatesOrder.duplicated().sum()"
   ]
  },
  {
   "cell_type": "markdown",
   "metadata": {},
   "source": [
    "# Datatype"
   ]
  },
  {
   "cell_type": "code",
   "execution_count": null,
   "metadata": {},
   "outputs": [],
   "source": [
    "dropDuplicatesOrder.info()"
   ]
  },
  {
   "cell_type": "code",
   "execution_count": null,
   "metadata": {},
   "outputs": [],
   "source": []
  },
  {
   "cell_type": "markdown",
   "metadata": {},
   "source": [
    "# Labels"
   ]
  },
  {
   "cell_type": "code",
   "execution_count": null,
   "metadata": {},
   "outputs": [],
   "source": [
    "labels = pd.read_csv(\"training-labels_v1.0.csv\")\n",
    "labels.head()"
   ]
  },
  {
   "cell_type": "code",
   "execution_count": null,
   "metadata": {},
   "outputs": [],
   "source": [
    "labels.shape"
   ]
  },
  {
   "cell_type": "code",
   "execution_count": null,
   "metadata": {},
   "outputs": [],
   "source": [
    "labels.isnull().sum()"
   ]
  },
  {
   "cell_type": "code",
   "execution_count": null,
   "metadata": {},
   "outputs": [],
   "source": [
    "labels.duplicated().sum()"
   ]
  }
 ],
 "metadata": {
  "kernelspec": {
   "display_name": "Python 3.9.12 ('base')",
   "language": "python",
   "name": "python3"
  },
  "language_info": {
   "codemirror_mode": {
    "name": "ipython",
    "version": 3
   },
   "file_extension": ".py",
   "mimetype": "text/x-python",
   "name": "python",
   "nbconvert_exporter": "python",
   "pygments_lexer": "ipython3",
   "version": "3.9.12"
  },
  "orig_nbformat": 4,
  "vscode": {
   "interpreter": {
    "hash": "ad2bdc8ecc057115af97d19610ffacc2b4e99fae6737bb82f5d7fb13d2f2c186"
   }
  }
 },
 "nbformat": 4,
 "nbformat_minor": 2
}
